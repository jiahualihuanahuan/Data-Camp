{
 "cells": [
  {
   "cell_type": "code",
   "execution_count": 1,
   "metadata": {},
   "outputs": [
    {
     "name": "stdout",
     "output_type": "stream",
     "text": [
      "5\n",
      "<class 'str'>\n"
     ]
    }
   ],
   "source": [
    "# build-in functions\n",
    "# str()\n",
    "x=str(5)\n",
    "print(x)\n",
    "print(type(x))"
   ]
  },
  {
   "cell_type": "code",
   "execution_count": 27,
   "metadata": {},
   "outputs": [
    {
     "name": "stdout",
     "output_type": "stream",
     "text": [
      "5.0\n",
      "<class 'float'>\n",
      "<class 'str'>\n",
      "<class 'NoneType'>\n"
     ]
    }
   ],
   "source": [
    "# Check the types of the variables x, y1, and y2.\n",
    "x=5.0\n",
    "y1 = str(x)\n",
    "y2 = print(x)\n",
    "\n",
    "\n",
    "print(type(x))\n",
    "print(type(y1))\n",
    "print(type(y2))\n",
    "\n"
   ]
  },
  {
   "cell_type": "code",
   "execution_count": 28,
   "metadata": {},
   "outputs": [
    {
     "name": "stdout",
     "output_type": "stream",
     "text": [
      "dataanalysisvisualization\n",
      "3\n",
      "111\n"
     ]
    }
   ],
   "source": [
    "# What are the values in object1, object2, and object3, respectively?\n",
    "object1 = \"data\" + \"analysis\" + \"visualization\"\n",
    "object2 = 1 * 3\n",
    "object3 = \"1\" * 3\n",
    "\n",
    "print(object1)\n",
    "print(object2)\n",
    "print(object3)\n",
    "\n",
    "# object1 contains \"dataanalysisvisualization\", object2 contains 3, object3 contains \"111\"."
   ]
  },
  {
   "cell_type": "code",
   "execution_count": 2,
   "metadata": {},
   "outputs": [
    {
     "name": "stdout",
     "output_type": "stream",
     "text": [
      "16\n"
     ]
    }
   ],
   "source": [
    "# define functions without parameters\n",
    "# define a function\n",
    "def square():\n",
    "    new_value = 4**2\n",
    "    print(new_value)\n",
    "\n",
    "square()"
   ]
  },
  {
   "cell_type": "code",
   "execution_count": 3,
   "metadata": {},
   "outputs": [
    {
     "name": "stdout",
     "output_type": "stream",
     "text": [
      "25\n"
     ]
    }
   ],
   "source": [
    "# define functions with on parameter\n",
    "# function parameters\n",
    "def square(value):\n",
    "    new_value = value**2\n",
    "    print(new_value)\n",
    "\n",
    "square(5)"
   ]
  },
  {
   "cell_type": "code",
   "execution_count": 4,
   "metadata": {},
   "outputs": [
    {
     "name": "stdout",
     "output_type": "stream",
     "text": [
      "25\n"
     ]
    }
   ],
   "source": [
    "# define functions taht return a value\n",
    "# return values from functions\n",
    "def square(value):\n",
    "    new_value = value**2\n",
    "    return new_value\n",
    "\n",
    "square(5)\n",
    "num = square(5)\n",
    "print(num)"
   ]
  },
  {
   "cell_type": "code",
   "execution_count": 5,
   "metadata": {},
   "outputs": [
    {
     "name": "stdout",
     "output_type": "stream",
     "text": [
      "Help on function square in module __main__:\n",
      "\n",
      "square(value)\n",
      "    Return the square of a value\n",
      "\n"
     ]
    }
   ],
   "source": [
    "# docstrings\n",
    "def square(value):\n",
    "    '''Return the square of a value'''\n",
    "    new_value = value**2\n",
    "    return new_value\n",
    "\n",
    "help(square)"
   ]
  },
  {
   "cell_type": "code",
   "execution_count": 11,
   "metadata": {},
   "outputs": [
    {
     "name": "stdout",
     "output_type": "stream",
     "text": [
      "congratulations!!!\n"
     ]
    }
   ],
   "source": [
    "# Define shout with the parameter, word\n",
    "def shout(word):\n",
    "    \"\"\"Print a string with three exclamation marks\"\"\"\n",
    "    # Concatenate the strings: shout_word\n",
    "    shout_word = word + '!!!'\n",
    "\n",
    "    # Print shout_word\n",
    "    print(shout_word)\n",
    "\n",
    "# Call shout with the string 'congratulations'\n",
    "shout('congratulations')\n"
   ]
  },
  {
   "cell_type": "code",
   "execution_count": 6,
   "metadata": {},
   "outputs": [
    {
     "name": "stdout",
     "output_type": "stream",
     "text": [
      "65536\n"
     ]
    }
   ],
   "source": [
    "# multiple parameters, arguments, and return values\n",
    "\n",
    "# multiple function parameters\n",
    "def raise_to_power(value1, value2):\n",
    "    '''Raise value1 to the power of value2'''\n",
    "    new_value = value1**value2\n",
    "    return new_value\n",
    "\n",
    "result = raise_to_power(4,8)\n",
    "print(result)"
   ]
  },
  {
   "cell_type": "code",
   "execution_count": 7,
   "metadata": {},
   "outputs": [
    {
     "name": "stdout",
     "output_type": "stream",
     "text": [
      "<class 'tuple'>\n"
     ]
    }
   ],
   "source": [
    "# a quick jump into tuples\n",
    "even_nums = (2,4,6)\n",
    "print(type(even_nums))"
   ]
  },
  {
   "cell_type": "code",
   "execution_count": 8,
   "metadata": {},
   "outputs": [
    {
     "name": "stdout",
     "output_type": "stream",
     "text": [
      "2\n",
      "4\n",
      "6\n"
     ]
    }
   ],
   "source": [
    "# unpacking tuples\n",
    "even_nums = (2,4,6)\n",
    "a,b,c = even_nums\n",
    "print(a)\n",
    "print(b)\n",
    "print(c)"
   ]
  },
  {
   "cell_type": "code",
   "execution_count": 9,
   "metadata": {},
   "outputs": [
    {
     "name": "stdout",
     "output_type": "stream",
     "text": [
      "4\n",
      "4\n"
     ]
    }
   ],
   "source": [
    "# accessing tuple elements\n",
    "even_nums = (2,4,6)\n",
    "print(even_nums[1])\n",
    "second_num = even_nums[1]\n",
    "print(second_num)"
   ]
  },
  {
   "cell_type": "code",
   "execution_count": 10,
   "metadata": {},
   "outputs": [
    {
     "name": "stdout",
     "output_type": "stream",
     "text": [
      "(81, 64)\n"
     ]
    }
   ],
   "source": [
    "# multiple return values\n",
    "def raise_both(value1, value2):\n",
    "    '''Raise value1 to the power of value2 and vice versa'''\n",
    "    new_value1 = value1**value2\n",
    "    new_value2 = value2**value1\n",
    "    new_tiple = (new_value1, new_value2)\n",
    "    return new_tiple\n",
    "\n",
    "result = raise_both(3,4)\n",
    "print(result)"
   ]
  },
  {
   "cell_type": "code",
   "execution_count": 16,
   "metadata": {},
   "outputs": [
    {
     "name": "stdout",
     "output_type": "stream",
     "text": [
      "congratulations!!!\n",
      "you!!!\n"
     ]
    }
   ],
   "source": [
    "# Define shout_all with parameters word1 and word2\n",
    "def shout_all(word1, word2):\n",
    "    \"\"\"Print two strings, each with three exclamation marks\"\"\"\n",
    "    # Concatenate word1 with '!!!': shout1\n",
    "    shout1 = word1 + '!!!'\n",
    "    \n",
    "    # Concatenate word2 with '!!!': shout2\n",
    "    shout2 = word2 + '!!!'\n",
    "    \n",
    "    # Construct a tuple with shout1 and shout2: shout_words\n",
    "    shout_words = (shout1, shout2)\n",
    "\n",
    "    # Return shout_words\n",
    "    return shout_words\n",
    "\n",
    "# Pass 'congratulations' and 'you' to shout_all(): yell1, yell2\n",
    "yell1, yell2 = shout_all('congratulations', 'you')\n",
    "\n",
    "# Print yell1 and yell2\n",
    "print(yell1)\n",
    "print(yell2)\n"
   ]
  },
  {
   "cell_type": "code",
   "execution_count": 13,
   "metadata": {},
   "outputs": [
    {
     "name": "stdout",
     "output_type": "stream",
     "text": [
      "(2, 4, 6)\n"
     ]
    }
   ],
   "source": [
    "'''\n",
    "A brief introduction to tuples\n",
    "100xp\n",
    "\n",
    "Alongside learning about functions, you've also learned about tuples!\n",
    "Here, you will practice what you've learned about tuples: how to construct, unpack,\n",
    "and access tuple elements. Recall how Hugo unpacked the tuple even_nums in the video:\n",
    "\n",
    "a, b, c = even_nums\n",
    "\n",
    "A three-element tuple named nums has been preloaded for this exercise.\n",
    "Before completing the script, perform the following:\n",
    "\n",
    "-Print out the value of nums in the IPython shell. Note the elements in the tuple.\n",
    "-In the IPython shell, try to change the first element of nums to the value 2 by doing an assignment:\n",
    "nums[0] = 2. What happens?\n",
    "\n",
    "Instructions\n",
    "-Unpack nums to the variables num1, num2, and num3.\n",
    "-Construct a new tuple, even_nums composed of the same elements in nums, but with the 1st element replaced with the value, 2.\n",
    "'''\n",
    "nums = (3, 4, 6)\n",
    "\n",
    "# Unpack nums into num1, num2, and num3\n",
    "num1, num2, num3 = nums\n",
    "\n",
    "# Construct even_nums\n",
    "even_nums = (2, num2, num3)\n",
    "print(even_nums)"
   ]
  },
  {
   "cell_type": "code",
   "execution_count": 18,
   "metadata": {},
   "outputs": [
    {
     "name": "stdout",
     "output_type": "stream",
     "text": [
      "{'en': 97, 'et': 1, 'und': 2}\n"
     ]
    }
   ],
   "source": [
    "'''\n",
    "Bringing it all together (1)\n",
    "100xp\n",
    "\n",
    "You've got your first taste of writing your own functions in the previous exercises.\n",
    "You've learned how to add parameters to your own function definitions, return a value\n",
    "or multiple values with tuples, and how to call the functions you've defined.\n",
    "\n",
    "In this and the following exercise, you will bring together all these concepts and apply\n",
    "them to a simple data science problem. You will load a dataset and develop functionalities\n",
    "to extract simple insights from the data.\n",
    "\n",
    "For this exercise, your goal is to recall how to load a dataset into a DataFrame.\n",
    "The dataset contains Twitter data and you will iterate over entries in a column to\n",
    "build a dictionary in which the keys are the names of languages and the values are\n",
    "the number of tweets in the given language. The file tweets.csv is available in your\n",
    "current directory.\n",
    "\n",
    "Instructions\n",
    "-Import the pandas package with the alias pd.\n",
    "-Import the file 'tweets.csv' using the pandas function read_csv(). Assign the resulting DataFrame to df.\n",
    "-Complete the for loop by iterating over col, the 'lang' column in the DataFrame df.\n",
    "-Complete the bodies of the if-else statements in the for loop: if the key is in the\n",
    "dictionary langs_count, add 1 to its current value, else add the key to langs_count\n",
    "and set its value to 1. Use the loop variable entry in your code.\n",
    "'''\n",
    "# Import pandas\n",
    "import pandas as pd\n",
    "\n",
    "# Import Twitter data as DataFrame: df\n",
    "df = pd.read_csv('/Users/jiahuali1991/Dropbox/Machine Learning/GitHub/Python/Others Code from Github/DataCamp-master/03-python-data-science-toolbox-(part-1)/_datasets/tweets.csv')\n",
    "\n",
    "# Initialize an empty dictionary: langs_count\n",
    "langs_count = {}\n",
    "\n",
    "# Extract column from DataFrame: col\n",
    "col = df['lang']\n",
    "\n",
    "# Iterate over lang column in DataFrame\n",
    "for entry in col:\n",
    "\n",
    "    # If the language is in langs_count, add 1\n",
    "    if entry in langs_count.keys():\n",
    "        langs_count[entry] += 1\n",
    "    # Else add the language to langs_count, set the value to 1\n",
    "    else:\n",
    "        langs_count[entry] = 1\n",
    "\n",
    "# Print the populated dictionary\n",
    "print(langs_count)\n"
   ]
  },
  {
   "cell_type": "code",
   "execution_count": 22,
   "metadata": {},
   "outputs": [
    {
     "name": "stdout",
     "output_type": "stream",
     "text": [
      "{'en': 97, 'et': 1, 'und': 2}\n"
     ]
    }
   ],
   "source": [
    "'''\n",
    "Bringing it all together (2)\n",
    "100xp\n",
    "\n",
    "Great job! You've now defined the functionality for iterating over entries in a column and\n",
    "building a dictionary with keys the names of languages and values the number of tweets in\n",
    "the given language.\n",
    "\n",
    "In this exercise, you will define a function with the functionality you developed in the\n",
    "previous exercise, return the resulting dictionary from within the function, and call the\n",
    "function with the appropriate arguments.\n",
    "\n",
    "For your convenience, the pandas package has been imported as pd and the 'tweets.csv' file\n",
    "has been imported into the tweets_df variable.\n",
    "\n",
    "Instructions\n",
    "-Define the function count_entries(), which has two parameters. The first parameter is df\n",
    "for the DataFrame and the second is col_name for the column name.\n",
    "-Complete the bodies of the if-else statements in the for loop: if the key is in the\n",
    "dictionary langs_count, add 1 to its current value, else add the key to langs_count and set\n",
    "its value to 1. Use the loop variable entry in your code.\n",
    "-Return the langs_count dictionary from inside the count_entries() function.\n",
    "-Call the count_entries() function by passing to it tweets_df and the name of the column,\n",
    "'lang'. Assign the result of the call to the variable result.\n",
    "'''\n",
    "# Import pandas\n",
    "import pandas as pd\n",
    "\n",
    "# Import Twitter data as DataFrame: df\n",
    "tweets_df = pd.read_csv('/Users/jiahuali1991/Dropbox/Machine Learning/GitHub/Python/Others Code from Github/DataCamp-master/03-python-data-science-toolbox-(part-1)/_datasets/tweets.csv')\n",
    "\n",
    "# Define count_entries()\n",
    "def count_entries(df, col_name):\n",
    "    \"\"\"Return a dictionary with counts of \n",
    "    occurrences as value for each key.\"\"\"\n",
    "\n",
    "    # Initialize an empty dictionary: langs_count\n",
    "    langs_count = {}\n",
    "    \n",
    "    # Extract column from DataFrame: col\n",
    "    col = df[col_name]\n",
    "    \n",
    "    # Iterate over lang column in DataFrame\n",
    "    for entry in col:\n",
    "\n",
    "        # If the language is in langs_count, add 1\n",
    "        if entry in langs_count.keys():\n",
    "            langs_count[entry] += 1\n",
    "        # Else add the language to langs_count, set the value to 1\n",
    "        else:\n",
    "            langs_count[entry] = 1\n",
    "\n",
    "    # Return the langs_count dictionary\n",
    "    return langs_count\n",
    "\n",
    "# Call count_entries(): result\n",
    "result = count_entries(tweets_df, 'lang')\n",
    "\n",
    "# Print the result\n",
    "print(result)\n"
   ]
  },
  {
   "cell_type": "code",
   "execution_count": null,
   "metadata": {},
   "outputs": [],
   "source": []
  }
 ],
 "metadata": {
  "kernelspec": {
   "display_name": "Python 3",
   "language": "python",
   "name": "python3"
  },
  "language_info": {
   "codemirror_mode": {
    "name": "ipython",
    "version": 3
   },
   "file_extension": ".py",
   "mimetype": "text/x-python",
   "name": "python",
   "nbconvert_exporter": "python",
   "pygments_lexer": "ipython3",
   "version": "3.8.3"
  }
 },
 "nbformat": 4,
 "nbformat_minor": 4
}
